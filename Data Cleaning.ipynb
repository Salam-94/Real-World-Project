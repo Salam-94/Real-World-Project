{
 "cells": [
  {
   "cell_type": "code",
   "execution_count": 1,
   "id": "dde4a613",
   "metadata": {},
   "outputs": [],
   "source": [
    "import numpy as np\n",
    "import pandas as pd\n",
    "import matplotlib.pyplot as plt\n",
    "import seaborn as sns\n",
    "\n",
    "import warnings\n",
    "warnings.filterwarnings(\"ignore\")"
   ]
  },
  {
   "cell_type": "code",
   "execution_count": 2,
   "id": "adaddd9b",
   "metadata": {},
   "outputs": [],
   "source": [
    "#importing the Dataset\n",
    "DC= pd.read_csv(\"E:/C-Drive/Shahbaz Alam/ver2020.csv\")"
   ]
  },
  {
   "cell_type": "code",
   "execution_count": 3,
   "id": "3122fe9a",
   "metadata": {},
   "outputs": [],
   "source": [
    "pd.set_option('display.max_column',None)  #to show all the column of a data set"
   ]
  },
  {
   "cell_type": "code",
   "execution_count": 4,
   "id": "d0f29b4b",
   "metadata": {},
   "outputs": [
    {
     "data": {
      "text/html": [
       "<div>\n",
       "<style scoped>\n",
       "    .dataframe tbody tr th:only-of-type {\n",
       "        vertical-align: middle;\n",
       "    }\n",
       "\n",
       "    .dataframe tbody tr th {\n",
       "        vertical-align: top;\n",
       "    }\n",
       "\n",
       "    .dataframe thead th {\n",
       "        text-align: right;\n",
       "    }\n",
       "</style>\n",
       "<table border=\"1\" class=\"dataframe\">\n",
       "  <thead>\n",
       "    <tr style=\"text-align: right;\">\n",
       "      <th></th>\n",
       "      <th>Unnamed: 0</th>\n",
       "      <th>Geography</th>\n",
       "      <th>Civic Education</th>\n",
       "      <th>Chemistry</th>\n",
       "      <th>Physics</th>\n",
       "      <th>Foreign Language Code</th>\n",
       "      <th>Foreign Language</th>\n",
       "      <th>Biology</th>\n",
       "      <th>History</th>\n",
       "      <th>Mathematics</th>\n",
       "      <th>Vietnamese Literacy</th>\n",
       "      <th>id</th>\n",
       "    </tr>\n",
       "  </thead>\n",
       "  <tbody>\n",
       "    <tr>\n",
       "      <th>0</th>\n",
       "      <td>0</td>\n",
       "      <td>7.00</td>\n",
       "      <td>6.50</td>\n",
       "      <td>NaN</td>\n",
       "      <td>NaN</td>\n",
       "      <td>N1</td>\n",
       "      <td>4.2</td>\n",
       "      <td>NaN</td>\n",
       "      <td>4.75</td>\n",
       "      <td>6.4</td>\n",
       "      <td>6.75</td>\n",
       "      <td>18014547</td>\n",
       "    </tr>\n",
       "    <tr>\n",
       "      <th>1</th>\n",
       "      <td>1</td>\n",
       "      <td>7.75</td>\n",
       "      <td>7.75</td>\n",
       "      <td>NaN</td>\n",
       "      <td>NaN</td>\n",
       "      <td>N1</td>\n",
       "      <td>2.8</td>\n",
       "      <td>NaN</td>\n",
       "      <td>3.75</td>\n",
       "      <td>7.6</td>\n",
       "      <td>6.00</td>\n",
       "      <td>18014530</td>\n",
       "    </tr>\n",
       "    <tr>\n",
       "      <th>2</th>\n",
       "      <td>2</td>\n",
       "      <td>6.50</td>\n",
       "      <td>NaN</td>\n",
       "      <td>NaN</td>\n",
       "      <td>NaN</td>\n",
       "      <td>NaN</td>\n",
       "      <td>NaN</td>\n",
       "      <td>NaN</td>\n",
       "      <td>4.00</td>\n",
       "      <td>4.8</td>\n",
       "      <td>4.75</td>\n",
       "      <td>18014521</td>\n",
       "    </tr>\n",
       "    <tr>\n",
       "      <th>3</th>\n",
       "      <td>3</td>\n",
       "      <td>8.00</td>\n",
       "      <td>9.50</td>\n",
       "      <td>NaN</td>\n",
       "      <td>NaN</td>\n",
       "      <td>N1</td>\n",
       "      <td>5.8</td>\n",
       "      <td>NaN</td>\n",
       "      <td>8.25</td>\n",
       "      <td>8.0</td>\n",
       "      <td>7.00</td>\n",
       "      <td>18014517</td>\n",
       "    </tr>\n",
       "    <tr>\n",
       "      <th>4</th>\n",
       "      <td>4</td>\n",
       "      <td>NaN</td>\n",
       "      <td>NaN</td>\n",
       "      <td>8.5</td>\n",
       "      <td>8.0</td>\n",
       "      <td>N1</td>\n",
       "      <td>4.0</td>\n",
       "      <td>5.0</td>\n",
       "      <td>NaN</td>\n",
       "      <td>8.2</td>\n",
       "      <td>6.50</td>\n",
       "      <td>18014523</td>\n",
       "    </tr>\n",
       "  </tbody>\n",
       "</table>\n",
       "</div>"
      ],
      "text/plain": [
       "   Unnamed: 0  Geography  Civic Education  Chemistry  Physics  \\\n",
       "0           0       7.00             6.50        NaN      NaN   \n",
       "1           1       7.75             7.75        NaN      NaN   \n",
       "2           2       6.50              NaN        NaN      NaN   \n",
       "3           3       8.00             9.50        NaN      NaN   \n",
       "4           4        NaN              NaN        8.5      8.0   \n",
       "\n",
       "  Foreign Language Code  Foreign Language  Biology  History  Mathematics  \\\n",
       "0                    N1               4.2      NaN     4.75          6.4   \n",
       "1                    N1               2.8      NaN     3.75          7.6   \n",
       "2                   NaN               NaN      NaN     4.00          4.8   \n",
       "3                    N1               5.8      NaN     8.25          8.0   \n",
       "4                    N1               4.0      5.0      NaN          8.2   \n",
       "\n",
       "   Vietnamese Literacy        id  \n",
       "0                 6.75  18014547  \n",
       "1                 6.00  18014530  \n",
       "2                 4.75  18014521  \n",
       "3                 7.00  18014517  \n",
       "4                 6.50  18014523  "
      ]
     },
     "execution_count": 4,
     "metadata": {},
     "output_type": "execute_result"
    }
   ],
   "source": [
    "DC.head()  #displaying the top 5 entries to our data set/ Dataframe"
   ]
  },
  {
   "cell_type": "code",
   "execution_count": 5,
   "id": "2ab4c4cd",
   "metadata": {},
   "outputs": [
    {
     "data": {
      "text/plain": [
       "Index(['Unnamed: 0', 'Geography', 'Civic Education', 'Chemistry', 'Physics',\n",
       "       'Foreign Language Code', 'Foreign Language', 'Biology', 'History',\n",
       "       'Mathematics', 'Vietnamese Literacy', 'id'],\n",
       "      dtype='object')"
      ]
     },
     "execution_count": 5,
     "metadata": {},
     "output_type": "execute_result"
    }
   ],
   "source": [
    "DC.columns #showing the column name"
   ]
  },
  {
   "cell_type": "markdown",
   "id": "edc4c475",
   "metadata": {},
   "source": [
    "# Lets Remove the column which are aperantly least important"
   ]
  },
  {
   "cell_type": "code",
   "execution_count": 9,
   "id": "7b391466",
   "metadata": {},
   "outputs": [],
   "source": [
    "DC= DC.drop(['Unnamed: 0','Foreign Language Code'], axis=1) #Axis=1 is for droping column and axis=0 is for droping raws"
   ]
  },
  {
   "cell_type": "code",
   "execution_count": 11,
   "id": "6d3be898",
   "metadata": {},
   "outputs": [
    {
     "data": {
      "text/plain": [
       "Index(['Geography', 'Civic Education', 'Chemistry', 'Physics',\n",
       "       'Foreign Language', 'Biology', 'History', 'Mathematics',\n",
       "       'Vietnamese Literacy', 'id'],\n",
       "      dtype='object')"
      ]
     },
     "execution_count": 11,
     "metadata": {},
     "output_type": "execute_result"
    }
   ],
   "source": [
    "DC.columns #after droping checking the column name"
   ]
  },
  {
   "cell_type": "code",
   "execution_count": 12,
   "id": "a0ea2ce0",
   "metadata": {},
   "outputs": [
    {
     "data": {
      "text/plain": [
       "Geography              315414\n",
       "Civic Education        387506\n",
       "Chemistry              574950\n",
       "Physics                577199\n",
       "Foreign Language        98388\n",
       "Biology                580109\n",
       "History                301905\n",
       "Mathematics              3905\n",
       "Vietnamese Literacy     13921\n",
       "id                          0\n",
       "dtype: int64"
      ]
     },
     "execution_count": 12,
     "metadata": {},
     "output_type": "execute_result"
    }
   ],
   "source": [
    "# Lets check the null value count in each column\n",
    "DC.isnull().sum()"
   ]
  },
  {
   "cell_type": "code",
   "execution_count": 13,
   "id": "11ced519",
   "metadata": {},
   "outputs": [
    {
     "data": {
      "text/plain": [
       "(870486, 10)"
      ]
     },
     "execution_count": 13,
     "metadata": {},
     "output_type": "execute_result"
    }
   ],
   "source": [
    "DC.shape"
   ]
  },
  {
   "cell_type": "code",
   "execution_count": 14,
   "id": "0e6c7d2c",
   "metadata": {},
   "outputs": [],
   "source": [
    "# if you wish to drop all the columns having NaN (Null) Values\n",
    "# DC= DC.dropna(axis=1)"
   ]
  },
  {
   "cell_type": "markdown",
   "id": "b7b3089e",
   "metadata": {},
   "source": [
    "# Removing \"Biology\" column as having more than 70% Null values"
   ]
  },
  {
   "cell_type": "code",
   "execution_count": 15,
   "id": "b9f7058f",
   "metadata": {},
   "outputs": [],
   "source": [
    "DC= DC.drop('Biology',axis=1)"
   ]
  },
  {
   "cell_type": "code",
   "execution_count": 16,
   "id": "56603dfe",
   "metadata": {},
   "outputs": [
    {
     "data": {
      "text/plain": [
       "Index(['Geography', 'Civic Education', 'Chemistry', 'Physics',\n",
       "       'Foreign Language', 'History', 'Mathematics', 'Vietnamese Literacy',\n",
       "       'id'],\n",
       "      dtype='object')"
      ]
     },
     "execution_count": 16,
     "metadata": {},
     "output_type": "execute_result"
    }
   ],
   "source": [
    "DC.columns"
   ]
  },
  {
   "cell_type": "markdown",
   "id": "70d71dad",
   "metadata": {},
   "source": [
    "# Null Value Removal Scenario and respective Techniques"
   ]
  },
  {
   "cell_type": "code",
   "execution_count": 32,
   "id": "21f849c8",
   "metadata": {},
   "outputs": [],
   "source": [
    "DCN= pd.read_csv(\"E:/C-Drive/Shahbaz Alam/womens-world-cup.csv\")"
   ]
  },
  {
   "cell_type": "code",
   "execution_count": 33,
   "id": "dac23dc9",
   "metadata": {},
   "outputs": [
    {
     "data": {
      "text/html": [
       "<div>\n",
       "<style scoped>\n",
       "    .dataframe tbody tr th:only-of-type {\n",
       "        vertical-align: middle;\n",
       "    }\n",
       "\n",
       "    .dataframe tbody tr th {\n",
       "        vertical-align: top;\n",
       "    }\n",
       "\n",
       "    .dataframe thead th {\n",
       "        text-align: right;\n",
       "    }\n",
       "</style>\n",
       "<table border=\"1\" class=\"dataframe\">\n",
       "  <thead>\n",
       "    <tr style=\"text-align: right;\">\n",
       "      <th></th>\n",
       "      <th>id</th>\n",
       "      <th>squad</th>\n",
       "      <th>year</th>\n",
       "      <th>players</th>\n",
       "      <th>age</th>\n",
       "      <th>possesion</th>\n",
       "      <th>matches_played</th>\n",
       "      <th>starts</th>\n",
       "      <th>min_playing_time</th>\n",
       "      <th>minutes_played_90s</th>\n",
       "      <th>goals</th>\n",
       "      <th>assists</th>\n",
       "      <th>non_penalty_goals</th>\n",
       "      <th>penalty_kicks_made</th>\n",
       "      <th>penalty_kicks_attempted</th>\n",
       "      <th>yellow_cards</th>\n",
       "      <th>red_cards</th>\n",
       "      <th>goals_per_90</th>\n",
       "      <th>assists_per_90</th>\n",
       "      <th>goals_plus_assists_per_90</th>\n",
       "      <th>goals_minus_penalty_kicks_per_90</th>\n",
       "      <th>goals_plus_assists_minus_penalty_kicks_per_90</th>\n",
       "    </tr>\n",
       "  </thead>\n",
       "  <tbody>\n",
       "    <tr>\n",
       "      <th>0</th>\n",
       "      <td>1</td>\n",
       "      <td>Argentina</td>\n",
       "      <td>2019</td>\n",
       "      <td>18</td>\n",
       "      <td>26.8</td>\n",
       "      <td>34.7</td>\n",
       "      <td>3</td>\n",
       "      <td>33</td>\n",
       "      <td>270</td>\n",
       "      <td>3.0</td>\n",
       "      <td>2.0</td>\n",
       "      <td>1</td>\n",
       "      <td>1</td>\n",
       "      <td>1</td>\n",
       "      <td>1</td>\n",
       "      <td>3.0</td>\n",
       "      <td>0.0</td>\n",
       "      <td>0.67</td>\n",
       "      <td>0.33</td>\n",
       "      <td>1.00</td>\n",
       "      <td>0.33</td>\n",
       "      <td>0.67</td>\n",
       "    </tr>\n",
       "    <tr>\n",
       "      <th>1</th>\n",
       "      <td>2</td>\n",
       "      <td>Australia</td>\n",
       "      <td>2019</td>\n",
       "      <td>18</td>\n",
       "      <td>25.4</td>\n",
       "      <td>61.3</td>\n",
       "      <td>4</td>\n",
       "      <td>44</td>\n",
       "      <td>390</td>\n",
       "      <td>4.3</td>\n",
       "      <td>8.0</td>\n",
       "      <td>4</td>\n",
       "      <td>8</td>\n",
       "      <td>0</td>\n",
       "      <td>1</td>\n",
       "      <td>2.0</td>\n",
       "      <td>0.0</td>\n",
       "      <td>1.85</td>\n",
       "      <td>0.92</td>\n",
       "      <td>2.77</td>\n",
       "      <td>1.85</td>\n",
       "      <td>2.77</td>\n",
       "    </tr>\n",
       "    <tr>\n",
       "      <th>2</th>\n",
       "      <td>3</td>\n",
       "      <td>Brazil</td>\n",
       "      <td>2019</td>\n",
       "      <td>18</td>\n",
       "      <td>29.7</td>\n",
       "      <td>51.5</td>\n",
       "      <td>4</td>\n",
       "      <td>44</td>\n",
       "      <td>390</td>\n",
       "      <td>4.3</td>\n",
       "      <td>7.0</td>\n",
       "      <td>3</td>\n",
       "      <td>5</td>\n",
       "      <td>2</td>\n",
       "      <td>3</td>\n",
       "      <td>7.0</td>\n",
       "      <td>0.0</td>\n",
       "      <td>1.62</td>\n",
       "      <td>0.69</td>\n",
       "      <td>2.31</td>\n",
       "      <td>1.15</td>\n",
       "      <td>1.85</td>\n",
       "    </tr>\n",
       "    <tr>\n",
       "      <th>3</th>\n",
       "      <td>4</td>\n",
       "      <td>Cameroon</td>\n",
       "      <td>2019</td>\n",
       "      <td>20</td>\n",
       "      <td>27.7</td>\n",
       "      <td>36.0</td>\n",
       "      <td>4</td>\n",
       "      <td>44</td>\n",
       "      <td>360</td>\n",
       "      <td>4.0</td>\n",
       "      <td>3.0</td>\n",
       "      <td>3</td>\n",
       "      <td>3</td>\n",
       "      <td>0</td>\n",
       "      <td>0</td>\n",
       "      <td>6.0</td>\n",
       "      <td>0.0</td>\n",
       "      <td>0.75</td>\n",
       "      <td>0.75</td>\n",
       "      <td>1.50</td>\n",
       "      <td>0.75</td>\n",
       "      <td>1.50</td>\n",
       "    </tr>\n",
       "    <tr>\n",
       "      <th>4</th>\n",
       "      <td>5</td>\n",
       "      <td>Canada</td>\n",
       "      <td>2019</td>\n",
       "      <td>16</td>\n",
       "      <td>27.0</td>\n",
       "      <td>63.0</td>\n",
       "      <td>4</td>\n",
       "      <td>44</td>\n",
       "      <td>360</td>\n",
       "      <td>4.0</td>\n",
       "      <td>NaN</td>\n",
       "      <td>3</td>\n",
       "      <td>4</td>\n",
       "      <td>0</td>\n",
       "      <td>1</td>\n",
       "      <td>2.0</td>\n",
       "      <td>0.0</td>\n",
       "      <td>1.00</td>\n",
       "      <td>0.75</td>\n",
       "      <td>1.75</td>\n",
       "      <td>1.00</td>\n",
       "      <td>1.75</td>\n",
       "    </tr>\n",
       "  </tbody>\n",
       "</table>\n",
       "</div>"
      ],
      "text/plain": [
       "   id      squad  year  players   age  possesion  matches_played  starts  \\\n",
       "0   1  Argentina  2019       18  26.8       34.7               3      33   \n",
       "1   2  Australia  2019       18  25.4       61.3               4      44   \n",
       "2   3     Brazil  2019       18  29.7       51.5               4      44   \n",
       "3   4   Cameroon  2019       20  27.7       36.0               4      44   \n",
       "4   5     Canada  2019       16  27.0       63.0               4      44   \n",
       "\n",
       "   min_playing_time  minutes_played_90s  goals  assists  non_penalty_goals  \\\n",
       "0               270                 3.0    2.0        1                  1   \n",
       "1               390                 4.3    8.0        4                  8   \n",
       "2               390                 4.3    7.0        3                  5   \n",
       "3               360                 4.0    3.0        3                  3   \n",
       "4               360                 4.0    NaN        3                  4   \n",
       "\n",
       "   penalty_kicks_made  penalty_kicks_attempted  yellow_cards  red_cards  \\\n",
       "0                   1                        1           3.0        0.0   \n",
       "1                   0                        1           2.0        0.0   \n",
       "2                   2                        3           7.0        0.0   \n",
       "3                   0                        0           6.0        0.0   \n",
       "4                   0                        1           2.0        0.0   \n",
       "\n",
       "   goals_per_90  assists_per_90  goals_plus_assists_per_90  \\\n",
       "0          0.67            0.33                       1.00   \n",
       "1          1.85            0.92                       2.77   \n",
       "2          1.62            0.69                       2.31   \n",
       "3          0.75            0.75                       1.50   \n",
       "4          1.00            0.75                       1.75   \n",
       "\n",
       "   goals_minus_penalty_kicks_per_90  \\\n",
       "0                              0.33   \n",
       "1                              1.85   \n",
       "2                              1.15   \n",
       "3                              0.75   \n",
       "4                              1.00   \n",
       "\n",
       "   goals_plus_assists_minus_penalty_kicks_per_90  \n",
       "0                                           0.67  \n",
       "1                                           2.77  \n",
       "2                                           1.85  \n",
       "3                                           1.50  \n",
       "4                                           1.75  "
      ]
     },
     "execution_count": 33,
     "metadata": {},
     "output_type": "execute_result"
    }
   ],
   "source": [
    "DCN.head()"
   ]
  },
  {
   "cell_type": "code",
   "execution_count": 34,
   "id": "4edbca8e",
   "metadata": {},
   "outputs": [
    {
     "data": {
      "text/plain": [
       "id                                                0\n",
       "squad                                             0\n",
       "year                                              0\n",
       "players                                           0\n",
       "age                                               0\n",
       "possesion                                        11\n",
       "matches_played                                    0\n",
       "starts                                            0\n",
       "min_playing_time                                  0\n",
       "minutes_played_90s                                0\n",
       "goals                                             8\n",
       "assists                                           0\n",
       "non_penalty_goals                                 0\n",
       "penalty_kicks_made                                0\n",
       "penalty_kicks_attempted                           0\n",
       "yellow_cards                                     74\n",
       "red_cards                                        74\n",
       "goals_per_90                                      0\n",
       "assists_per_90                                    0\n",
       "goals_plus_assists_per_90                         0\n",
       "goals_minus_penalty_kicks_per_90                  0\n",
       "goals_plus_assists_minus_penalty_kicks_per_90     0\n",
       "dtype: int64"
      ]
     },
     "execution_count": 34,
     "metadata": {},
     "output_type": "execute_result"
    }
   ],
   "source": [
    "DCN.isnull().sum() # checking tha Null values"
   ]
  },
  {
   "cell_type": "code",
   "execution_count": 35,
   "id": "549d9294",
   "metadata": {},
   "outputs": [
    {
     "data": {
      "text/plain": [
       "(136, 22)"
      ]
     },
     "execution_count": 35,
     "metadata": {},
     "output_type": "execute_result"
    }
   ],
   "source": [
    "DCN.shape"
   ]
  },
  {
   "cell_type": "markdown",
   "id": "387215d5",
   "metadata": {},
   "source": [
    "# Imputing Null Values With Central Tendency:"
   ]
  },
  {
   "cell_type": "code",
   "execution_count": 36,
   "id": "f31e07db",
   "metadata": {},
   "outputs": [
    {
     "data": {
      "text/plain": [
       "<AxesSubplot:xlabel='possesion'>"
      ]
     },
     "execution_count": 36,
     "metadata": {},
     "output_type": "execute_result"
    },
    {
     "data": {
      "image/png": "[encoded data removed]",
      "text/plain": [
       "<Figure size 432x288 with 1 Axes>"
      ]
     },
     "metadata": {
      "needs_background": "light"
     },
     "output_type": "display_data"
    }
   ],
   "source": [
    "sns.boxplot(DCN.possesion) #checking with box plot"
   ]
  },
  {
   "cell_type": "code",
   "execution_count": 37,
   "id": "c83aa2c0",
   "metadata": {},
   "outputs": [
    {
     "data": {
      "text/plain": [
       "<AxesSubplot:xlabel='goals'>"
      ]
     },
     "execution_count": 37,
     "metadata": {},
     "output_type": "execute_result"
    },
    {
     "data": {
      "image/png": "[encoded data removed]",
      "text/plain": [
       "<Figure size 432x288 with 1 Axes>"
      ]
     },
     "metadata": {
      "needs_background": "light"
     },
     "output_type": "display_data"
    }
   ],
   "source": [
    "sns.boxplot(DCN.goals) #checking with box plot"
   ]
  },
  {
   "cell_type": "code",
   "execution_count": 39,
   "id": "7ec0fb13",
   "metadata": {},
   "outputs": [
    {
     "data": {
      "image/png": "[encoded data removed]",
      "text/plain": [
       "<Figure size 432x288 with 1 Axes>"
      ]
     },
     "metadata": {
      "needs_background": "light"
     },
     "output_type": "display_data"
    },
    {
     "data": {
      "image/png": "[encoded data removed]",
      "text/plain": [
       "<Figure size 432x288 with 1 Axes>"
      ]
     },
     "metadata": {
      "needs_background": "light"
     },
     "output_type": "display_data"
    }
   ],
   "source": [
    "list1= [DCN.possesion ,DCN.goals]  #using Loop\n",
    " \n",
    "for i in list1:\n",
    "    sns.boxplot(i)\n",
    "    plt.show() "
   ]
  },
  {
   "cell_type": "code",
   "execution_count": 41,
   "id": "824a9b83",
   "metadata": {},
   "outputs": [
    {
     "data": {
      "text/plain": [
       "<AxesSubplot:xlabel='possesion', ylabel='Density'>"
      ]
     },
     "execution_count": 41,
     "metadata": {},
     "output_type": "execute_result"
    },
    {
     "data": {
      "image/png": "[encoded data removed]",
      "text/plain": [
       "<Figure size 432x288 with 1 Axes>"
      ]
     },
     "metadata": {
      "needs_background": "light"
     },
     "output_type": "display_data"
    }
   ],
   "source": [
    "sns.distplot(DCN.possesion) #checking the distribution"
   ]
  },
  {
   "cell_type": "code",
   "execution_count": 42,
   "id": "ee75f0a7",
   "metadata": {},
   "outputs": [
    {
     "data": {
      "text/plain": [
       "<AxesSubplot:xlabel='goals', ylabel='Density'>"
      ]
     },
     "execution_count": 42,
     "metadata": {},
     "output_type": "execute_result"
    },
    {
     "data": {
      "image/png": "[encoded data removed]",
      "text/plain": [
       "<Figure size 432x288 with 1 Axes>"
      ]
     },
     "metadata": {
      "needs_background": "light"
     },
     "output_type": "display_data"
    }
   ],
   "source": [
    "sns.distplot(DCN.goals)"
   ]
  },
  {
   "cell_type": "code",
   "execution_count": 43,
   "id": "729dbed5",
   "metadata": {},
   "outputs": [],
   "source": [
    "DCN['possesion'] = DCN['possesion'].fillna(DCN['possesion'].mean())  #imputing null values using mean"
   ]
  },
  {
   "cell_type": "code",
   "execution_count": 44,
   "id": "1c7ef64f",
   "metadata": {},
   "outputs": [
    {
     "data": {
      "text/html": [
       "<div>\n",
       "<style scoped>\n",
       "    .dataframe tbody tr th:only-of-type {\n",
       "        vertical-align: middle;\n",
       "    }\n",
       "\n",
       "    .dataframe tbody tr th {\n",
       "        vertical-align: top;\n",
       "    }\n",
       "\n",
       "    .dataframe thead th {\n",
       "        text-align: right;\n",
       "    }\n",
       "</style>\n",
       "<table border=\"1\" class=\"dataframe\">\n",
       "  <thead>\n",
       "    <tr style=\"text-align: right;\">\n",
       "      <th></th>\n",
       "      <th>id</th>\n",
       "      <th>squad</th>\n",
       "      <th>year</th>\n",
       "      <th>players</th>\n",
       "      <th>age</th>\n",
       "      <th>possesion</th>\n",
       "      <th>matches_played</th>\n",
       "      <th>starts</th>\n",
       "      <th>min_playing_time</th>\n",
       "      <th>minutes_played_90s</th>\n",
       "      <th>goals</th>\n",
       "      <th>assists</th>\n",
       "      <th>non_penalty_goals</th>\n",
       "      <th>penalty_kicks_made</th>\n",
       "      <th>penalty_kicks_attempted</th>\n",
       "      <th>yellow_cards</th>\n",
       "      <th>red_cards</th>\n",
       "      <th>goals_per_90</th>\n",
       "      <th>assists_per_90</th>\n",
       "      <th>goals_plus_assists_per_90</th>\n",
       "      <th>goals_minus_penalty_kicks_per_90</th>\n",
       "      <th>goals_plus_assists_minus_penalty_kicks_per_90</th>\n",
       "    </tr>\n",
       "  </thead>\n",
       "  <tbody>\n",
       "    <tr>\n",
       "      <th>0</th>\n",
       "      <td>1</td>\n",
       "      <td>Argentina</td>\n",
       "      <td>2019</td>\n",
       "      <td>18</td>\n",
       "      <td>26.8</td>\n",
       "      <td>34.7</td>\n",
       "      <td>3</td>\n",
       "      <td>33</td>\n",
       "      <td>270</td>\n",
       "      <td>3.0</td>\n",
       "      <td>2.0</td>\n",
       "      <td>1</td>\n",
       "      <td>1</td>\n",
       "      <td>1</td>\n",
       "      <td>1</td>\n",
       "      <td>3.0</td>\n",
       "      <td>0.0</td>\n",
       "      <td>0.67</td>\n",
       "      <td>0.33</td>\n",
       "      <td>1.00</td>\n",
       "      <td>0.33</td>\n",
       "      <td>0.67</td>\n",
       "    </tr>\n",
       "    <tr>\n",
       "      <th>1</th>\n",
       "      <td>2</td>\n",
       "      <td>Australia</td>\n",
       "      <td>2019</td>\n",
       "      <td>18</td>\n",
       "      <td>25.4</td>\n",
       "      <td>61.3</td>\n",
       "      <td>4</td>\n",
       "      <td>44</td>\n",
       "      <td>390</td>\n",
       "      <td>4.3</td>\n",
       "      <td>8.0</td>\n",
       "      <td>4</td>\n",
       "      <td>8</td>\n",
       "      <td>0</td>\n",
       "      <td>1</td>\n",
       "      <td>2.0</td>\n",
       "      <td>0.0</td>\n",
       "      <td>1.85</td>\n",
       "      <td>0.92</td>\n",
       "      <td>2.77</td>\n",
       "      <td>1.85</td>\n",
       "      <td>2.77</td>\n",
       "    </tr>\n",
       "    <tr>\n",
       "      <th>2</th>\n",
       "      <td>3</td>\n",
       "      <td>Brazil</td>\n",
       "      <td>2019</td>\n",
       "      <td>18</td>\n",
       "      <td>29.7</td>\n",
       "      <td>51.5</td>\n",
       "      <td>4</td>\n",
       "      <td>44</td>\n",
       "      <td>390</td>\n",
       "      <td>4.3</td>\n",
       "      <td>7.0</td>\n",
       "      <td>3</td>\n",
       "      <td>5</td>\n",
       "      <td>2</td>\n",
       "      <td>3</td>\n",
       "      <td>7.0</td>\n",
       "      <td>0.0</td>\n",
       "      <td>1.62</td>\n",
       "      <td>0.69</td>\n",
       "      <td>2.31</td>\n",
       "      <td>1.15</td>\n",
       "      <td>1.85</td>\n",
       "    </tr>\n",
       "    <tr>\n",
       "      <th>3</th>\n",
       "      <td>4</td>\n",
       "      <td>Cameroon</td>\n",
       "      <td>2019</td>\n",
       "      <td>20</td>\n",
       "      <td>27.7</td>\n",
       "      <td>36.0</td>\n",
       "      <td>4</td>\n",
       "      <td>44</td>\n",
       "      <td>360</td>\n",
       "      <td>4.0</td>\n",
       "      <td>3.0</td>\n",
       "      <td>3</td>\n",
       "      <td>3</td>\n",
       "      <td>0</td>\n",
       "      <td>0</td>\n",
       "      <td>6.0</td>\n",
       "      <td>0.0</td>\n",
       "      <td>0.75</td>\n",
       "      <td>0.75</td>\n",
       "      <td>1.50</td>\n",
       "      <td>0.75</td>\n",
       "      <td>1.50</td>\n",
       "    </tr>\n",
       "    <tr>\n",
       "      <th>4</th>\n",
       "      <td>5</td>\n",
       "      <td>Canada</td>\n",
       "      <td>2019</td>\n",
       "      <td>16</td>\n",
       "      <td>27.0</td>\n",
       "      <td>63.0</td>\n",
       "      <td>4</td>\n",
       "      <td>44</td>\n",
       "      <td>360</td>\n",
       "      <td>4.0</td>\n",
       "      <td>NaN</td>\n",
       "      <td>3</td>\n",
       "      <td>4</td>\n",
       "      <td>0</td>\n",
       "      <td>1</td>\n",
       "      <td>2.0</td>\n",
       "      <td>0.0</td>\n",
       "      <td>1.00</td>\n",
       "      <td>0.75</td>\n",
       "      <td>1.75</td>\n",
       "      <td>1.00</td>\n",
       "      <td>1.75</td>\n",
       "    </tr>\n",
       "    <tr>\n",
       "      <th>...</th>\n",
       "      <td>...</td>\n",
       "      <td>...</td>\n",
       "      <td>...</td>\n",
       "      <td>...</td>\n",
       "      <td>...</td>\n",
       "      <td>...</td>\n",
       "      <td>...</td>\n",
       "      <td>...</td>\n",
       "      <td>...</td>\n",
       "      <td>...</td>\n",
       "      <td>...</td>\n",
       "      <td>...</td>\n",
       "      <td>...</td>\n",
       "      <td>...</td>\n",
       "      <td>...</td>\n",
       "      <td>...</td>\n",
       "      <td>...</td>\n",
       "      <td>...</td>\n",
       "      <td>...</td>\n",
       "      <td>...</td>\n",
       "      <td>...</td>\n",
       "      <td>...</td>\n",
       "    </tr>\n",
       "    <tr>\n",
       "      <th>131</th>\n",
       "      <td>132</td>\n",
       "      <td>New Zealand</td>\n",
       "      <td>1991</td>\n",
       "      <td>15</td>\n",
       "      <td>25.5</td>\n",
       "      <td>51.3</td>\n",
       "      <td>3</td>\n",
       "      <td>33</td>\n",
       "      <td>240</td>\n",
       "      <td>2.7</td>\n",
       "      <td>1.0</td>\n",
       "      <td>1</td>\n",
       "      <td>1</td>\n",
       "      <td>0</td>\n",
       "      <td>0</td>\n",
       "      <td>NaN</td>\n",
       "      <td>NaN</td>\n",
       "      <td>0.37</td>\n",
       "      <td>0.37</td>\n",
       "      <td>0.75</td>\n",
       "      <td>0.37</td>\n",
       "      <td>0.75</td>\n",
       "    </tr>\n",
       "    <tr>\n",
       "      <th>132</th>\n",
       "      <td>133</td>\n",
       "      <td>Nigeria</td>\n",
       "      <td>1991</td>\n",
       "      <td>17</td>\n",
       "      <td>18.2</td>\n",
       "      <td>48.0</td>\n",
       "      <td>3</td>\n",
       "      <td>33</td>\n",
       "      <td>240</td>\n",
       "      <td>2.7</td>\n",
       "      <td>0.0</td>\n",
       "      <td>0</td>\n",
       "      <td>0</td>\n",
       "      <td>0</td>\n",
       "      <td>0</td>\n",
       "      <td>NaN</td>\n",
       "      <td>NaN</td>\n",
       "      <td>0.00</td>\n",
       "      <td>0.00</td>\n",
       "      <td>0.00</td>\n",
       "      <td>0.00</td>\n",
       "      <td>0.00</td>\n",
       "    </tr>\n",
       "    <tr>\n",
       "      <th>133</th>\n",
       "      <td>134</td>\n",
       "      <td>Norway</td>\n",
       "      <td>1991</td>\n",
       "      <td>15</td>\n",
       "      <td>24.1</td>\n",
       "      <td>45.0</td>\n",
       "      <td>6</td>\n",
       "      <td>66</td>\n",
       "      <td>500</td>\n",
       "      <td>5.6</td>\n",
       "      <td>13.0</td>\n",
       "      <td>6</td>\n",
       "      <td>12</td>\n",
       "      <td>1</td>\n",
       "      <td>1</td>\n",
       "      <td>NaN</td>\n",
       "      <td>NaN</td>\n",
       "      <td>2.34</td>\n",
       "      <td>1.08</td>\n",
       "      <td>3.42</td>\n",
       "      <td>2.16</td>\n",
       "      <td>3.24</td>\n",
       "    </tr>\n",
       "    <tr>\n",
       "      <th>134</th>\n",
       "      <td>135</td>\n",
       "      <td>Sweden</td>\n",
       "      <td>1991</td>\n",
       "      <td>18</td>\n",
       "      <td>25.4</td>\n",
       "      <td>48.2</td>\n",
       "      <td>6</td>\n",
       "      <td>66</td>\n",
       "      <td>480</td>\n",
       "      <td>5.3</td>\n",
       "      <td>17.0</td>\n",
       "      <td>11</td>\n",
       "      <td>16</td>\n",
       "      <td>1</td>\n",
       "      <td>1</td>\n",
       "      <td>NaN</td>\n",
       "      <td>NaN</td>\n",
       "      <td>3.19</td>\n",
       "      <td>2.06</td>\n",
       "      <td>5.25</td>\n",
       "      <td>3.00</td>\n",
       "      <td>5.06</td>\n",
       "    </tr>\n",
       "    <tr>\n",
       "      <th>135</th>\n",
       "      <td>136</td>\n",
       "      <td>USA</td>\n",
       "      <td>1991</td>\n",
       "      <td>16</td>\n",
       "      <td>23.0</td>\n",
       "      <td>42.0</td>\n",
       "      <td>6</td>\n",
       "      <td>66</td>\n",
       "      <td>480</td>\n",
       "      <td>5.3</td>\n",
       "      <td>25.0</td>\n",
       "      <td>11</td>\n",
       "      <td>24</td>\n",
       "      <td>1</td>\n",
       "      <td>1</td>\n",
       "      <td>NaN</td>\n",
       "      <td>NaN</td>\n",
       "      <td>4.69</td>\n",
       "      <td>2.06</td>\n",
       "      <td>6.75</td>\n",
       "      <td>4.50</td>\n",
       "      <td>6.56</td>\n",
       "    </tr>\n",
       "  </tbody>\n",
       "</table>\n",
       "<p>136 rows × 22 columns</p>\n",
       "</div>"
      ],
      "text/plain": [
       "      id        squad  year  players   age  possesion  matches_played  starts  \\\n",
       "0      1    Argentina  2019       18  26.8       34.7               3      33   \n",
       "1      2    Australia  2019       18  25.4       61.3               4      44   \n",
       "2      3       Brazil  2019       18  29.7       51.5               4      44   \n",
       "3      4     Cameroon  2019       20  27.7       36.0               4      44   \n",
       "4      5       Canada  2019       16  27.0       63.0               4      44   \n",
       "..   ...          ...   ...      ...   ...        ...             ...     ...   \n",
       "131  132  New Zealand  1991       15  25.5       51.3               3      33   \n",
       "132  133      Nigeria  1991       17  18.2       48.0               3      33   \n",
       "133  134       Norway  1991       15  24.1       45.0               6      66   \n",
       "134  135       Sweden  1991       18  25.4       48.2               6      66   \n",
       "135  136          USA  1991       16  23.0       42.0               6      66   \n",
       "\n",
       "     min_playing_time  minutes_played_90s  goals  assists  non_penalty_goals  \\\n",
       "0                 270                 3.0    2.0        1                  1   \n",
       "1                 390                 4.3    8.0        4                  8   \n",
       "2                 390                 4.3    7.0        3                  5   \n",
       "3                 360                 4.0    3.0        3                  3   \n",
       "4                 360                 4.0    NaN        3                  4   \n",
       "..                ...                 ...    ...      ...                ...   \n",
       "131               240                 2.7    1.0        1                  1   \n",
       "132               240                 2.7    0.0        0                  0   \n",
       "133               500                 5.6   13.0        6                 12   \n",
       "134               480                 5.3   17.0       11                 16   \n",
       "135               480                 5.3   25.0       11                 24   \n",
       "\n",
       "     penalty_kicks_made  penalty_kicks_attempted  yellow_cards  red_cards  \\\n",
       "0                     1                        1           3.0        0.0   \n",
       "1                     0                        1           2.0        0.0   \n",
       "2                     2                        3           7.0        0.0   \n",
       "3                     0                        0           6.0        0.0   \n",
       "4                     0                        1           2.0        0.0   \n",
       "..                  ...                      ...           ...        ...   \n",
       "131                   0                        0           NaN        NaN   \n",
       "132                   0                        0           NaN        NaN   \n",
       "133                   1                        1           NaN        NaN   \n",
       "134                   1                        1           NaN        NaN   \n",
       "135                   1                        1           NaN        NaN   \n",
       "\n",
       "     goals_per_90  assists_per_90  goals_plus_assists_per_90  \\\n",
       "0            0.67            0.33                       1.00   \n",
       "1            1.85            0.92                       2.77   \n",
       "2            1.62            0.69                       2.31   \n",
       "3            0.75            0.75                       1.50   \n",
       "4            1.00            0.75                       1.75   \n",
       "..            ...             ...                        ...   \n",
       "131          0.37            0.37                       0.75   \n",
       "132          0.00            0.00                       0.00   \n",
       "133          2.34            1.08                       3.42   \n",
       "134          3.19            2.06                       5.25   \n",
       "135          4.69            2.06                       6.75   \n",
       "\n",
       "     goals_minus_penalty_kicks_per_90  \\\n",
       "0                                0.33   \n",
       "1                                1.85   \n",
       "2                                1.15   \n",
       "3                                0.75   \n",
       "4                                1.00   \n",
       "..                                ...   \n",
       "131                              0.37   \n",
       "132                              0.00   \n",
       "133                              2.16   \n",
       "134                              3.00   \n",
       "135                              4.50   \n",
       "\n",
       "     goals_plus_assists_minus_penalty_kicks_per_90  \n",
       "0                                             0.67  \n",
       "1                                             2.77  \n",
       "2                                             1.85  \n",
       "3                                             1.50  \n",
       "4                                             1.75  \n",
       "..                                             ...  \n",
       "131                                           0.75  \n",
       "132                                           0.00  \n",
       "133                                           3.24  \n",
       "134                                           5.06  \n",
       "135                                           6.56  \n",
       "\n",
       "[136 rows x 22 columns]"
      ]
     },
     "execution_count": 44,
     "metadata": {},
     "output_type": "execute_result"
    }
   ],
   "source": [
    "DCN"
   ]
  },
  {
   "cell_type": "code",
   "execution_count": 46,
   "id": "163abc75",
   "metadata": {},
   "outputs": [],
   "source": [
    "DCN['goals'] = DCN['goals'].fillna(DCN['goals'].median())  #imputing null values using median"
   ]
  },
  {
   "cell_type": "code",
   "execution_count": 47,
   "id": "5c8e8ded",
   "metadata": {},
   "outputs": [
    {
     "data": {
      "text/plain": [
       "id                                                0\n",
       "squad                                             0\n",
       "year                                              0\n",
       "players                                           0\n",
       "age                                               0\n",
       "possesion                                         0\n",
       "matches_played                                    0\n",
       "starts                                            0\n",
       "min_playing_time                                  0\n",
       "minutes_played_90s                                0\n",
       "goals                                             0\n",
       "assists                                           0\n",
       "non_penalty_goals                                 0\n",
       "penalty_kicks_made                                0\n",
       "penalty_kicks_attempted                           0\n",
       "yellow_cards                                     74\n",
       "red_cards                                        74\n",
       "goals_per_90                                      0\n",
       "assists_per_90                                    0\n",
       "goals_plus_assists_per_90                         0\n",
       "goals_minus_penalty_kicks_per_90                  0\n",
       "goals_plus_assists_minus_penalty_kicks_per_90     0\n",
       "dtype: int64"
      ]
     },
     "execution_count": 47,
     "metadata": {},
     "output_type": "execute_result"
    }
   ],
   "source": [
    "DCN.isnull().sum() # Again checking the null values"
   ]
  },
  {
   "cell_type": "markdown",
   "id": "6cb816c3",
   "metadata": {},
   "source": [
    "# Thank You"
   ]
  },
  {
   "cell_type": "code",
   "execution_count": null,
   "id": "64b27f1a",
   "metadata": {},
   "outputs": [],
   "source": []
  }
 ],
 "metadata": {
  "kernelspec": {
   "display_name": "Python 3 (ipykernel)",
   "language": "python",
   "name": "python3"
  },
  "language_info": {
   "codemirror_mode": {
    "name": "ipython",
    "version": 3
   },
   "file_extension": ".py",
   "mimetype": "text/x-python",
   "name": "python",
   "nbconvert_exporter": "python",
   "pygments_lexer": "ipython3",
   "version": "3.9.12"
  }
 },
 "nbformat": 4,
 "nbformat_minor": 5
}
